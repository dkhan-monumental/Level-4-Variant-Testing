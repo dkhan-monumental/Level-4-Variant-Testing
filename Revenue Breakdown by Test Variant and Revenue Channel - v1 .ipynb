{
 "cells": [
  {
   "cell_type": "markdown",
   "id": "dc774395",
   "metadata": {},
   "source": [
    "## Run the Following Cell to Load Libraries and Initialize Connection"
   ]
  },
  {
   "cell_type": "code",
   "execution_count": null,
   "id": "89c85862",
   "metadata": {},
   "outputs": [],
   "source": [
    "# pip install psycopg2-binary \n",
    "import pandas as pd\n",
    "import numpy as np\n",
    "import seaborn as sns\n",
    "import matplotlib.pyplot as plt\n",
    "%matplotlib inline\n",
    "from sqlalchemy import create_engine, text\n",
    "import pickle\n",
    "from pandas.api.types import is_numeric_dtype\n",
    "import ipywidgets as widgets\n",
    "from IPython.display import display\n",
    "import psycopg2\n",
    "dbname = 'gamecircus'\n",
    "host = 'gc-dwh.cxykxux8ksim.us-east-1.redshift.amazonaws.com'\n",
    "port = '5439'\n",
    "conn = psycopg2.connect(dbname=dbname, user='dkhan', password='<PJR&w2(8gcE9j', host=host, port=port)"
   ]
  },
  {
   "cell_type": "markdown",
   "id": "67b0d0eb",
   "metadata": {},
   "source": [
    "## Run the Following Cell to Choose Dates"
   ]
  },
  {
   "cell_type": "code",
   "execution_count": null,
   "id": "4a7f883a",
   "metadata": {},
   "outputs": [],
   "source": [
    "start_date_picker = widgets.DatePicker(description='Select Install Cohort Start Date', disabled=False)\n",
    "end_date_picker = widgets.DatePicker(description='Select Install Cohort End Date', disabled=False)\n",
    "\n",
    "display(start_date_picker,end_date_picker)"
   ]
  },
  {
   "cell_type": "markdown",
   "id": "5102da05",
   "metadata": {},
   "source": [
    "## Run the Following Cells"
   ]
  },
  {
   "cell_type": "code",
   "execution_count": null,
   "id": "24de8a1c",
   "metadata": {},
   "outputs": [],
   "source": [
    "start_date = start_date_picker.value.strftime('%Y-%m-%d')\n",
    "end_date = end_date_picker.value.strftime('%Y-%m-%d')"
   ]
  },
  {
   "cell_type": "code",
   "execution_count": null,
   "id": "b78ce5af",
   "metadata": {},
   "outputs": [],
   "source": [
    "conn = psycopg2.connect(dbname=dbname, user='dkhan', password='<PJR&w2(8gcE9j', host=host, port=port)\n",
    "script = f'''with main as (\n",
    "\t  select primary_id, media_source, campaign, sum(revenue) as total_revenue from revenue_user_summary\n",
    "\t  where install_date between '{start_date}' and '{end_date}'\n",
    "\t  and app_name in ('Coin Dozer', 'Coin Dozer: Sweepstakes')\n",
    "\t  group by primary_id, media_source, campaign\n",
    "\t  ),\n",
    "\n",
    "video as (\n",
    "\t  select primary_id, media_source, campaign, sum(revenue) as vid from revenue_user_summary\n",
    "\t  where install_date between '{start_date}' and '{end_date}'\n",
    "\t  and app_name in ('Coin Dozer', 'Coin Dozer: Sweepstakes')\n",
    "\t  and revenue_type in ('rewarded_video')\n",
    "\t  group by primary_id, media_source, campaign\n",
    "\t  ),\n",
    "\t  \n",
    "offerwall as (\n",
    "\t  select primary_id, media_source, campaign, sum(revenue) as ow from revenue_user_summary\n",
    "\t  where install_date between '{start_date}' and '{end_date}'\n",
    "\t  and app_name in ('Coin Dozer', 'Coin Dozer: Sweepstakes')\n",
    "\t  and revenue_type in ('offerwall')\n",
    "\t  group by primary_id, media_source, campaign\n",
    "\t  ),\n",
    "\t  \n",
    "\t\n",
    "interstitial as (\n",
    "\t  select primary_id, media_source, campaign, sum(revenue) as interstitial from revenue_user_summary\n",
    "\t  where install_date between '{start_date}' and '{end_date}'\n",
    "\t  and app_name in ('Coin Dozer', 'Coin Dozer: Sweepstakes')\n",
    "\t  and revenue_type in ('interstitial')\n",
    "\t  group by primary_id, media_source, campaign\n",
    "\t  ),\n",
    "\n",
    "banner as (\n",
    "\t  select primary_id, media_source, campaign, sum(revenue) as ban from revenue_user_summary\n",
    "\t  where install_date between '2023-11-08' and '2023-11-13'\n",
    "\t  and app_name in ('Coin Dozer', 'Coin Dozer: Sweepstakes')\n",
    "\t  and revenue_type in ('banner')\n",
    "\t  group by primary_id, media_source, campaign\n",
    "\t  ),\n",
    "\t  \t  \n",
    "iap as (\n",
    "\t  select primary_id, media_source, campaign, sum(revenue) as iap from revenue_user_summary\n",
    "\t  where install_date between '{start_date}' and '{end_date}'\n",
    "\t  and app_name in ('Coin Dozer', 'Coin Dozer: Sweepstakes')\n",
    "\t  and revenue_source in ('IAP')\n",
    "\t  group by primary_id, media_source, campaign\n",
    "\t  ),\n",
    "\t  \t  \n",
    "\n",
    "  ddna_variant as (\n",
    "  \tselect distinct userid, DDNAEVENTTRIGGEREDVARIANTNAME AS variant\n",
    "  \tfrom delta_dna_imports_21605_cdv_2023_11 dcd\n",
    "  \twhere DDNAEVENTTRIGGEREDCAMPAIGNNAME Like 'QUICK_LV8_XP_2X (V2)' and gauserstartdate >= '2023-11-08'\n",
    "  \t)\n",
    "  \t\n",
    "  \tselect main.primary_id, main.media_source, main.campaign, main.total_revenue, video.vid, offerwall.ow, interstitial.interstitial, banner.ban, iap.iap, ddna_variant.variant\n",
    "  \tfrom main left outer join video on main.primary_id = video.primary_id\n",
    "  \tleft outer join offerwall on main.primary_id = offerwall.primary_id\n",
    "  \tleft outer join interstitial on main.primary_id = interstitial.primary_id\n",
    "  \tleft outer join banner on main.primary_id = banner.primary_id\n",
    "  \tleft outer join iap on main.primary_id = iap.primary_id\n",
    "  \tleft outer join ddna_variant on main.primary_id = ddna_variant.userid'''\n",
    "    \n",
    "output = pd.read_sql(script, con = conn)"
   ]
  },
  {
   "cell_type": "code",
   "execution_count": null,
   "id": "acdf7fac",
   "metadata": {},
   "outputs": [],
   "source": [
    "output.to_csv()"
   ]
  },
  {
   "cell_type": "code",
   "execution_count": null,
   "id": "f5c4e5fb",
   "metadata": {},
   "outputs": [],
   "source": [
    "path = input(\"Enter Output Path (without quotes)\")"
   ]
  },
  {
   "cell_type": "code",
   "execution_count": null,
   "id": "36562c61",
   "metadata": {},
   "outputs": [],
   "source": [
    "output.to_csv(path + r'\\Report.csv', index = False)"
   ]
  },
  {
   "cell_type": "code",
   "execution_count": null,
   "id": "caad1f71",
   "metadata": {},
   "outputs": [],
   "source": []
  }
 ],
 "metadata": {
  "kernelspec": {
   "display_name": "Python 3 (ipykernel)",
   "language": "python",
   "name": "python3"
  },
  "language_info": {
   "codemirror_mode": {
    "name": "ipython",
    "version": 3
   },
   "file_extension": ".py",
   "mimetype": "text/x-python",
   "name": "python",
   "nbconvert_exporter": "python",
   "pygments_lexer": "ipython3",
   "version": "3.11.5"
  }
 },
 "nbformat": 4,
 "nbformat_minor": 5
}
